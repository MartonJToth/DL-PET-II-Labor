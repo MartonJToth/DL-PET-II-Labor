{
  "nbformat": 4,
  "nbformat_minor": 0,
  "metadata": {
    "colab": {
      "name": "DL PET II Labor Task.ipynb",
      "provenance": [],
      "collapsed_sections": [],
      "authorship_tag": "ABX9TyNZ7n5EK371ynI/OjESzyPt",
      "include_colab_link": true
    },
    "kernelspec": {
      "name": "python3",
      "display_name": "Python 3"
    },
    "accelerator": "GPU"
  },
  "cells": [
    {
      "cell_type": "markdown",
      "metadata": {
        "id": "view-in-github",
        "colab_type": "text"
      },
      "source": [
        "<a href=\"https://colab.research.google.com/github/MartonJToth/DL-PET-II-Labor/blob/master/DL_PET_II_Labor_Task.ipynb\" target=\"_parent\"><img src=\"https://colab.research.google.com/assets/colab-badge.svg\" alt=\"Open In Colab\"/></a>"
      ]
    },
    {
      "cell_type": "markdown",
      "metadata": {
        "id": "-FpHCiceYNsy",
        "colab_type": "text"
      },
      "source": [
        "Szükséges importok\n",
        "\n",
        "---\n",
        "\n"
      ]
    },
    {
      "cell_type": "code",
      "metadata": {
        "id": "zzfvJkhfSnOc",
        "colab_type": "code",
        "colab": {}
      },
      "source": [
        "from keras import backend as K\n",
        "from keras.models import Model\n",
        "from keras.layers import Input, Conv2D, Dense, Activation, Concatenate, Lambda, Flatten\n",
        "from keras.layers import MaxPooling2D, AveragePooling2D, UpSampling2D, Conv2DTranspose\n",
        "from keras.layers import BatchNormalization, Dropout\n",
        "from keras.utils import plot_model\n",
        "import keras.callbacks\n",
        "\n",
        "import matplotlib.pyplot as plt\n",
        "from ipywidgets import interact, widgets\n",
        "from tqdm.notebook import tqdm\n",
        "import numpy as np\n",
        "\n",
        "np.random.seed(42)"
      ],
      "execution_count": 0,
      "outputs": []
    },
    {
      "cell_type": "markdown",
      "metadata": {
        "id": "0JnbpyYOYSaH",
        "colab_type": "text"
      },
      "source": [
        "Adatok letöltése\n",
        "\n",
        "---\n",
        "\n"
      ]
    },
    {
      "cell_type": "code",
      "metadata": {
        "id": "svDplvsulXcK",
        "colab_type": "code",
        "colab": {}
      },
      "source": [
        "!wget http://cg.iit.bme.hu/~tmarton/deeplearning/PET_Lab/cache.zip\n",
        "!unzip cache.zip"
      ],
      "execution_count": 0,
      "outputs": []
    },
    {
      "cell_type": "markdown",
      "metadata": {
        "id": "pwAa4h-4YVLq",
        "colab_type": "text"
      },
      "source": [
        "Adatok betöltése\n",
        "\n",
        "---\n",
        "\n"
      ]
    },
    {
      "cell_type": "code",
      "metadata": {
        "id": "miNyWLR6slsQ",
        "colab_type": "code",
        "colab": {}
      },
      "source": [
        "def load_preprocessed_data(dir):\n",
        "    pdata = {}\n",
        "    pdata['xin'] = np.load(dir + \"/xin.npy\")\n",
        "    pdata['gradient'] = np.load(dir + \"/gradient.npy\")\n",
        "    pdata['numerator'] = np.load(dir + \"/numerator.npy\")\n",
        "    pdata['denominator'] = np.load(dir + \"/denominator.npy\")\n",
        "    pdata['reference'] = np.load(dir + \"/reference.npy\")\n",
        "    pdata['global_tv'] = np.load(dir + \"/global_tv.npy\")\n",
        "    return pdata"
      ],
      "execution_count": 0,
      "outputs": []
    },
    {
      "cell_type": "markdown",
      "metadata": {
        "id": "7V1LDpdJYYGz",
        "colab_type": "text"
      },
      "source": [
        "*    Betöltés után az adtokat keverjük meg\n",
        "*    Használjuk csak az első 50 000 mintát\n",
        "\n"
      ]
    },
    {
      "cell_type": "code",
      "metadata": {
        "id": "HsPuM_KBo9iF",
        "colab_type": "code",
        "colab": {}
      },
      "source": [
        "data = load_preprocessed_data('./cache')\n",
        "\n",
        "#n, h, w, c\n",
        "\n",
        "\n",
        "\n",
        "\n",
        "\n",
        "\n",
        "\n",
        "\n",
        "\n",
        "\n",
        "\n",
        "\n",
        "\n",
        "\n",
        "\n",
        "\n",
        "tv_samples = 100\n",
        "tv_errors = np.zeros((xin.shape[0], tv_samples))\n",
        "delta = 0.002\n",
        "global_tv = np.zeros(xin.shape[0])\n",
        "result = np.zeros((xin.shape[0], 1))\n",
        "\n",
        "print('Data shape: (n, h, w, c)')\n",
        "\n",
        "print(gradient.shape)"
      ],
      "execution_count": 0,
      "outputs": []
    },
    {
      "cell_type": "markdown",
      "metadata": {
        "id": "zWXb9xKDkYBo",
        "colab_type": "text"
      },
      "source": [
        "Plot függvény\n",
        "\n",
        "\n",
        "---\n",
        "\n",
        "*   Rajzoljuk ki az egyes bemeneti elemeket\n",
        "*   Rajzoljuk ki a hibát a TV lambda függvényében\n",
        "*   Írjuk ki az optimális TV lambda értéket\n",
        "*   Készítsünk interktív \"nézegetőt\""
      ]
    },
    {
      "cell_type": "code",
      "metadata": {
        "id": "op2N0F_osrWZ",
        "colab_type": "code",
        "colab": {}
      },
      "source": [
        "def plot_slice(x):\n",
        "  imNum = 6\n",
        "  fig = plt.figure(figsize=(18, 7), dpi= 80)\n",
        "\n",
        "\n",
        "\n",
        "\n",
        "\n",
        "\n",
        "\n",
        "\n",
        "\n",
        "\n",
        "\n",
        "\n",
        "\n",
        "\n",
        "\n",
        "  plt.show()\n",
        "\n",
        "  print('Min value: ' + str(global_tv[x]))\n",
        "  print('Predicted value: ' + str(result[x, 0]))"
      ],
      "execution_count": 0,
      "outputs": []
    },
    {
      "cell_type": "code",
      "metadata": {
        "id": "998zHM7VxJWk",
        "colab_type": "code",
        "colab": {}
      },
      "source": [
        "# interact(...)"
      ],
      "execution_count": 0,
      "outputs": []
    },
    {
      "cell_type": "markdown",
      "metadata": {
        "id": "Z28nPr1zgPKQ",
        "colab_type": "text"
      },
      "source": [
        "Optimális TV lambda érték meghatározása\n",
        "\n",
        "\n",
        "---\n",
        "\n",
        "*  x_{n+1} = x_{n} * numerator / (tv_lambda * gradient + denominator)\n",
        "*  különböző lambda értékek melett x_{n+1} mennyire lesz közel a referenciához?\n",
        "*  számítsuk ki a hibát, illetve az optimális lambda értéket minden bemenethez\n"
      ]
    },
    {
      "cell_type": "code",
      "metadata": {
        "id": "DkJVWWPnqTOt",
        "colab_type": "code",
        "colab": {}
      },
      "source": [
        "def get_tv_errors(xin, denominator, gradient, numerator, reference, num, tv_samples, delta):\n",
        "    error = np.zeros(tv_samples)\n",
        "    \n",
        "    \n",
        "\n",
        "\n",
        "\n",
        "    \n",
        "    return error"
      ],
      "execution_count": 0,
      "outputs": []
    },
    {
      "cell_type": "code",
      "metadata": {
        "id": "coGDY5nDyF-x",
        "colab_type": "code",
        "colab": {}
      },
      "source": [
        "#for i : 0 xin.shape[0]\n",
        "\n",
        "\n"
      ],
      "execution_count": 0,
      "outputs": []
    },
    {
      "cell_type": "markdown",
      "metadata": {
        "id": "IXtfeVZVlPCp",
        "colab_type": "text"
      },
      "source": [
        "Hálózat definiálása és betanítása\n",
        "\n",
        "\n",
        "---\n",
        "\n",
        "*   Első lépésben definiáljunk egy hálózat a regresszió megoldására\n",
        "*   A hálózat struktúáját jelenítsük meg\n",
        "*   Definiáljuk a tanítás módját\n",
        "*   A tanítás eredményét jelenítsük meg\n"
      ]
    },
    {
      "cell_type": "code",
      "metadata": {
        "id": "AM9yzPKOTrKe",
        "colab_type": "code",
        "colab": {}
      },
      "source": [
        "def mic_net_2(rows, cols):\n",
        "    # network\n",
        "   \n",
        "   \n",
        "\n",
        "\n",
        "\n",
        "\n",
        "\n",
        "\n",
        "\n",
        "\n",
        "\n",
        "\n",
        "   \n",
        "\n",
        "    return model"
      ],
      "execution_count": 0,
      "outputs": []
    },
    {
      "cell_type": "code",
      "metadata": {
        "id": "TQOFcaOwU65N",
        "colab_type": "code",
        "colab": {}
      },
      "source": [
        "def train(model, xin, numerator, gradient, global_tv, prefix):\n",
        "    \n",
        "    \n",
        "\n",
        "\n",
        "\n",
        "\n",
        "\n",
        "\n",
        "\n",
        "\n",
        "\n",
        "    "
      ],
      "execution_count": 0,
      "outputs": []
    },
    {
      "cell_type": "code",
      "metadata": {
        "id": "x29DPoRnWGVv",
        "colab_type": "code",
        "colab": {}
      },
      "source": [
        "\n",
        "model = mic_net_2(32, 32)\n",
        "training_percent = 0.8\n",
        "\n",
        "training_limit_idx = int(data_limit * training_percent)\n",
        "print(\"Training limit: \" + str(training_limit_idx))\n",
        "\n",
        "# summary()\n",
        "# compile(...)\n",
        "\n",
        "train(model, xin[0:training_limit_idx,], numerator[0:training_limit_idx,], gradient[0:training_limit_idx,], global_tv[0:training_limit_idx,], \"mic2\")\n"
      ],
      "execution_count": 0,
      "outputs": []
    },
    {
      "cell_type": "markdown",
      "metadata": {
        "id": "bqJhY1Crl3CA",
        "colab_type": "text"
      },
      "source": [
        "Kiértékelés\n",
        "\n",
        "\n",
        "---\n",
        "\n",
        "*   A tanítás után értékeljük ki a modellt a többi adaton\n",
        "*   Ábrázoljuk a tanítás kiértékelés eredményét"
      ]
    },
    {
      "cell_type": "code",
      "metadata": {
        "id": "29ruucr2ZqSI",
        "colab_type": "code",
        "colab": {}
      },
      "source": [
        "# predict"
      ],
      "execution_count": 0,
      "outputs": []
    },
    {
      "cell_type": "code",
      "metadata": {
        "id": "Ml8m0xG-aJqe",
        "colab_type": "code",
        "colab": {}
      },
      "source": [
        "#plot 1\n",
        "\n",
        "\n",
        "\n",
        "\n"
      ],
      "execution_count": 0,
      "outputs": []
    },
    {
      "cell_type": "code",
      "metadata": {
        "id": "VynFMuyieUPt",
        "colab_type": "code",
        "colab": {}
      },
      "source": [
        "#Hiba eloszlás plot\n",
        "\n",
        "\n",
        "\n",
        "\n",
        "\n"
      ],
      "execution_count": 0,
      "outputs": []
    }
  ]
}